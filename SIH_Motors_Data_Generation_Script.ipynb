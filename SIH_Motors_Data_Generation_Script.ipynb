{
 "cells": [
  {
   "cell_type": "code",
   "execution_count": null,
   "metadata": {
    "colab": {},
    "colab_type": "code",
    "id": "myWzVjUzZ-cl"
   },
   "outputs": [],
   "source": [
    "import random\n",
    "import pandas as pd\n",
    "\n",
    "np.random.RandomState(10)\n",
    "\n",
    "def fact(a):\n",
    "    if a>2 : return 96 - 2*a\n",
    "    elif a==2 : return 92\n",
    "    elif a==1 : return 95\n",
    "    else : return 100\n",
    "\n",
    "def efficiency(pv,pi,po,f,pf,t,l,w,a):\n",
    "  return (((((((pv*w*po)/(pi*pf*(t+273)*((f*6.28)-w)))-0.06)/1.19)+8.9)/10)*fact(a))\n",
    "\n",
    "def relia(e):\n",
    "    if e>=90 : return \"Strongly\"\n",
    "    elif e>=80 : return \"Moderately\"\n",
    "    elif e>=70 : return \"Weekly\"\n",
    "    else : return \"No\"\n",
    "    \n",
    "def cycle(e):\n",
    "    return round(48 - (3500/e),0) - 1\n",
    "\n",
    "pv,pi,po,f,pf,t,l,w,a,e,r,c=([] for i in range(12))\n",
    "k=0\n",
    "\n",
    "while k<10000: \n",
    "    pv1 = random.randrange(4000,4800)/10  \n",
    "    pi1 = random.randrange(70,130)/10\n",
    "    po1 = random.randrange(2,4)\n",
    "    f1 = random.randrange(49,51)\n",
    "    pf1 = random.randrange(5,9)/10\n",
    "    t1 =  random.randrange(10,80)\n",
    "    l1 = random.randrange(50,120)\n",
    "    w1 = random.randrange(80,120)\n",
    "    a1 = random.randrange(0,4)\n",
    "    e1 = random.randrange(-1,1) + efficiency(pv1,pi1,po1,f1,pf1,t1,l1,w1,a1)\n",
    "    if e1>65 and e1<98:\n",
    "        e.append(round(e1,2))\n",
    "        r.append(relia(e1))\n",
    "        c.append(cycle(e1))\n",
    "        pv.append(pv1)\n",
    "        pi.append(pi1)\n",
    "        po.append(po1)\n",
    "        f.append(f1)\n",
    "        pf.append(pf1)\n",
    "        t.append(t1)\n",
    "        w.append(w1)\n",
    "        a.append(a1)\n",
    "        l.append(l1)\n",
    "        k+=1\n",
    "        \n",
    "list1 = list(zip(pv,pi,po,f,pf,t,l,w,a,e,r,c))\n",
    "df = pd.DataFrame(list1,columns = ['3 Phase Voltage in Volts','3 Phase Current in Amps','Poles','Frequency in Hz','Power Factor','Temperature in Celcius','% Load','Angular Velocity in rad/sec','Motor Age in Yrs','Efficiency','Reliability','Life Cycle in Yrs'])\n",
    "df.to_csv('data_sih.csv')"
   ]
  }
 ],
 "metadata": {
  "accelerator": "GPU",
  "colab": {
   "name": "Untitled1.ipynb",
   "provenance": []
  },
  "kernelspec": {
   "display_name": "Python 3",
   "language": "python",
   "name": "python3"
  },
  "language_info": {
   "codemirror_mode": {
    "name": "ipython",
    "version": 3
   },
   "file_extension": ".py",
   "mimetype": "text/x-python",
   "name": "python",
   "nbconvert_exporter": "python",
   "pygments_lexer": "ipython3",
   "version": "3.8.3"
  }
 },
 "nbformat": 4,
 "nbformat_minor": 1
}
